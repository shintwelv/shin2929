{
 "cells": [
  {
   "cell_type": "code",
   "execution_count": 1,
   "metadata": {},
   "outputs": [],
   "source": [
    "import numpy as np\n",
    "import pandas as pd\n",
    "import re"
   ]
  },
  {
   "cell_type": "code",
   "execution_count": 3,
   "metadata": {},
   "outputs": [],
   "source": [
    "with open('DSC_students.txt','r', encoding = 'UTF-8') as file:\n",
    "    logdata = file.read()"
   ]
  },
  {
   "cell_type": "code",
   "execution_count": 12,
   "metadata": {},
   "outputs": [],
   "source": [
    "student_list = re.findall('[가-힣a-zA-Z]*\\([0-9\\#]*\\)', logdata, re.VERBOSE)"
   ]
  },
  {
   "cell_type": "code",
   "execution_count": 32,
   "metadata": {},
   "outputs": [
    {
     "data": {
      "text/plain": [
       "0     JIN(2021####17)\n",
       "1     Huy(2021####64)\n",
       "2     강민규(2019####42)\n",
       "3     권희성(2019####96)\n",
       "4      김민(2020####05)\n",
       "5     김보현(2020####43)\n",
       "6     김상준(2020####23)\n",
       "7     김선호(2020####48)\n",
       "8     김수민(2019####61)\n",
       "9     김예훈(2019####60)\n",
       "10    김은지(2020####98)\n",
       "11    박세이(2017####32)\n",
       "12    박우혁(2020####97)\n",
       "13    백유미(2020####98)\n",
       "14    서성현(2020####38)\n",
       "15    선해라(2020####28)\n",
       "16    손건호(2017####57)\n",
       "17    송재현(2019####21)\n",
       "18    신민경(2018####29)\n",
       "19    양대찬(2020####57)\n",
       "20    우다연(2020####08)\n",
       "21    이상훈(2020####60)\n",
       "22    이수민(2018####93)\n",
       "23    이영돈(2014####29)\n",
       "24    이유민(2018####68)\n",
       "25    이유정(2020####02)\n",
       "26    이종원(2020####34)\n",
       "27    전효림(2019####40)\n",
       "28    정주원(2020####20)\n",
       "29    조민성(2014####44)\n",
       "30    조은빈(2018####85)\n",
       "31    한민지(2019####73)\n",
       "32    한지원(2019####51)\n",
       "33    허신일(2016####78)\n",
       "dtype: object"
      ]
     },
     "execution_count": 32,
     "metadata": {},
     "output_type": "execute_result"
    }
   ],
   "source": [
    "result =[]\n",
    "for student in student_list:\n",
    "    if student in result:\n",
    "        continue\n",
    "    else:\n",
    "        result.append(student)\n",
    "result = pd.Series(result)"
   ]
  },
  {
   "cell_type": "code",
   "execution_count": 33,
   "metadata": {},
   "outputs": [
    {
     "data": {
      "text/plain": [
       "0     2021\n",
       "1     2021\n",
       "2     2019\n",
       "3     2019\n",
       "4     2020\n",
       "5     2020\n",
       "6     2020\n",
       "7     2020\n",
       "8     2019\n",
       "9     2019\n",
       "10    2020\n",
       "11    2017\n",
       "12    2020\n",
       "13    2020\n",
       "14    2020\n",
       "15    2020\n",
       "16    2017\n",
       "17    2019\n",
       "18    2018\n",
       "19    2020\n",
       "20    2020\n",
       "21    2020\n",
       "22    2018\n",
       "23    2014\n",
       "24    2018\n",
       "25    2020\n",
       "26    2020\n",
       "27    2019\n",
       "28    2020\n",
       "29    2014\n",
       "30    2018\n",
       "31    2019\n",
       "32    2019\n",
       "33    2016\n",
       "dtype: object"
      ]
     },
     "execution_count": 33,
     "metadata": {},
     "output_type": "execute_result"
    }
   ],
   "source": [
    "enroll_year = result.copy()\n",
    "\n",
    "enroll_year.replace('[가-힣a-zA-Z]*\\(','',regex=True, inplace=True)\n",
    "enroll_year.replace('\\#{4}[0-9]{2}\\)','',regex=True, inplace=True)\n",
    "\n",
    "enroll_year"
   ]
  },
  {
   "cell_type": "code",
   "execution_count": 34,
   "metadata": {},
   "outputs": [
    {
     "data": {
      "text/plain": [
       "2020    15\n",
       "2019     8\n",
       "2018     4\n",
       "2017     2\n",
       "2014     2\n",
       "2021     2\n",
       "2016     1\n",
       "dtype: int64"
      ]
     },
     "execution_count": 34,
     "metadata": {},
     "output_type": "execute_result"
    }
   ],
   "source": [
    "enroll_year.value_counts()"
   ]
  },
  {
   "cell_type": "code",
   "execution_count": null,
   "metadata": {},
   "outputs": [],
   "source": []
  }
 ],
 "metadata": {
  "kernelspec": {
   "display_name": "Python 3",
   "language": "python",
   "name": "python3"
  },
  "language_info": {
   "codemirror_mode": {
    "name": "ipython",
    "version": 3
   },
   "file_extension": ".py",
   "mimetype": "text/x-python",
   "name": "python",
   "nbconvert_exporter": "python",
   "pygments_lexer": "ipython3",
   "version": "3.8.5"
  }
 },
 "nbformat": 4,
 "nbformat_minor": 4
}
